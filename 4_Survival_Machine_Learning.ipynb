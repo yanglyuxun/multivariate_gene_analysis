{
    "cells": [
        {
            "cell_type": "markdown",
            "metadata": {},
            "source": [
                "### This file records the results without the feature selection procedure."
            ]
        },
        {
            "cell_type": "code",
            "execution_count": 1,
            "metadata": {},
            "outputs": [],
            "source": [
                "from sklearn.decomposition import PCA\n",
                "import sksurv\n",
                "import pandas as pd\n",
                "import numpy as np\n",
                "import matplotlib.pyplot as plt\n",
                "import seaborn as sns"
            ]
        },
        {
            "cell_type": "markdown",
            "metadata": {},
            "source": [
                "# Dimention Reduction\n",
                "Selected Method: PCA"
            ]
        },
        {
            "cell_type": "code",
            "execution_count": 2,
            "metadata": {},
            "outputs": [
                {
                    "data": {
                        "text/html": [
                            "<div>\n",
                            "<style scoped>\n",
                            "    .dataframe tbody tr th:only-of-type {\n",
                            "        vertical-align: middle;\n",
                            "    }\n",
                            "\n",
                            "    .dataframe tbody tr th {\n",
                            "        vertical-align: top;\n",
                            "    }\n",
                            "\n",
                            "    .dataframe thead th {\n",
                            "        text-align: right;\n",
                            "    }\n",
                            "</style>\n",
                            "<table border=\"1\" class=\"dataframe\">\n",
                            "  <thead>\n",
                            "    <tr style=\"text-align: right;\">\n",
                            "      <th></th>\n",
                            "      <th>|D42043|*AA243583|Hs.79123|KIAA0084 protein</th>\n",
                            "      <th>||*AA805514|Hs.319447|Homo sapiens cDNA FLJ30948 fis, clone FEBRA2007900</th>\n",
                            "      <th>|S69790|~W04636|Hs.82318|WAS protein family, member 3.2</th>\n",
                            "    </tr>\n",
                            "  </thead>\n",
                            "  <tbody>\n",
                            "    <tr>\n",
                            "      <th>433</th>\n",
                            "      <td>-0.194401</td>\n",
                            "      <td>-0.104116</td>\n",
                            "      <td>1.758000</td>\n",
                            "    </tr>\n",
                            "    <tr>\n",
                            "      <th>435</th>\n",
                            "      <td>0.143112</td>\n",
                            "      <td>0.030573</td>\n",
                            "      <td>-0.041065</td>\n",
                            "    </tr>\n",
                            "    <tr>\n",
                            "      <th>439</th>\n",
                            "      <td>0.480200</td>\n",
                            "      <td>0.092100</td>\n",
                            "      <td>0.916000</td>\n",
                            "    </tr>\n",
                            "  </tbody>\n",
                            "</table>\n",
                            "</div>"
                        ],
                        "text/plain": [
                            "     |D42043|*AA243583|Hs.79123|KIAA0084 protein  \\\n",
                            "433                                    -0.194401   \n",
                            "435                                     0.143112   \n",
                            "439                                     0.480200   \n",
                            "\n",
                            "     ||*AA805514|Hs.319447|Homo sapiens cDNA FLJ30948 fis, clone FEBRA2007900  \\\n",
                            "433                                          -0.104116                          \n",
                            "435                                           0.030573                          \n",
                            "439                                           0.092100                          \n",
                            "\n",
                            "     |S69790|~W04636|Hs.82318|WAS protein family, member 3.2  \n",
                            "433                                           1.758000        \n",
                            "435                                          -0.041065        \n",
                            "439                                           0.916000        "
                        ]
                    },
                    "execution_count": 2,
                    "metadata": {},
                    "output_type": "execute_result"
                }
            ],
            "source": [
                "# read imputed data\n",
                "X = pd.read_csv('selectedX.csv',index_col=0)\n",
                "X.iloc[-3:,-3:]"
            ]
        },
        {
            "cell_type": "code",
            "execution_count": 3,
            "metadata": {},
            "outputs": [
                {
                    "name": "stdout",
                    "output_type": "stream",
                    "text": [
                        "(240, 380)\n",
                        "(240, 240)\n"
                    ]
                }
            ],
            "source": [
                "# PCA and n_components\n",
                "pca = PCA(svd_solver='full')\n",
                "Xpc = pca.fit_transform(X)\n",
                "print(X.shape)\n",
                "print(Xpc.shape)"
            ]
        },
        {
            "cell_type": "markdown",
            "metadata": {},
            "source": [
                "**Results from the PCA analysis in R codes:**"
            ]
        },
        {
            "cell_type": "code",
            "execution_count": 4,
            "metadata": {},
            "outputs": [
                {
                    "data": {
                        "text/html": [
                            "<div>\n",
                            "<style scoped>\n",
                            "    .dataframe tbody tr th:only-of-type {\n",
                            "        vertical-align: middle;\n",
                            "    }\n",
                            "\n",
                            "    .dataframe tbody tr th {\n",
                            "        vertical-align: top;\n",
                            "    }\n",
                            "\n",
                            "    .dataframe thead th {\n",
                            "        text-align: right;\n",
                            "    }\n",
                            "</style>\n",
                            "<table border=\"1\" class=\"dataframe\">\n",
                            "  <thead>\n",
                            "    <tr style=\"text-align: right;\">\n",
                            "      <th></th>\n",
                            "      <th>Cum Var</th>\n",
                            "      <th>n_components</th>\n",
                            "    </tr>\n",
                            "  </thead>\n",
                            "  <tbody>\n",
                            "    <tr>\n",
                            "      <th>0</th>\n",
                            "      <td>0.30</td>\n",
                            "      <td>4</td>\n",
                            "    </tr>\n",
                            "    <tr>\n",
                            "      <th>1</th>\n",
                            "      <td>0.50</td>\n",
                            "      <td>13</td>\n",
                            "    </tr>\n",
                            "    <tr>\n",
                            "      <th>2</th>\n",
                            "      <td>0.70</td>\n",
                            "      <td>34</td>\n",
                            "    </tr>\n",
                            "    <tr>\n",
                            "      <th>3</th>\n",
                            "      <td>0.80</td>\n",
                            "      <td>54</td>\n",
                            "    </tr>\n",
                            "    <tr>\n",
                            "      <th>4</th>\n",
                            "      <td>0.90</td>\n",
                            "      <td>91</td>\n",
                            "    </tr>\n",
                            "    <tr>\n",
                            "      <th>5</th>\n",
                            "      <td>0.95</td>\n",
                            "      <td>124</td>\n",
                            "    </tr>\n",
                            "    <tr>\n",
                            "      <th>6</th>\n",
                            "      <td>0.99</td>\n",
                            "      <td>184</td>\n",
                            "    </tr>\n",
                            "  </tbody>\n",
                            "</table>\n",
                            "</div>"
                        ],
                        "text/plain": [
                            "   Cum Var  n_components\n",
                            "0     0.30             4\n",
                            "1     0.50            13\n",
                            "2     0.70            34\n",
                            "3     0.80            54\n",
                            "4     0.90            91\n",
                            "5     0.95           124\n",
                            "6     0.99           184"
                        ]
                    },
                    "execution_count": 4,
                    "metadata": {},
                    "output_type": "execute_result"
                }
            ],
            "source": [
                "p2n = {0.3:4,0.5:13,0.7:34,0.8:54,0.9:91,0.95:124,0.99:184}\n",
                "pd.DataFrame({'Cum Var':list(p2n.keys()),'n_components':list(p2n.values())},index=range(len(p2n)))"
            ]
        },
        {
            "cell_type": "code",
            "execution_count": 5,
            "metadata": {},
            "outputs": [
                {
                    "data": {
                        "text/html": [
                            "<div>\n",
                            "<style scoped>\n",
                            "    .dataframe tbody tr th:only-of-type {\n",
                            "        vertical-align: middle;\n",
                            "    }\n",
                            "\n",
                            "    .dataframe tbody tr th {\n",
                            "        vertical-align: top;\n",
                            "    }\n",
                            "\n",
                            "    .dataframe thead th {\n",
                            "        text-align: right;\n",
                            "    }\n",
                            "</style>\n",
                            "<table border=\"1\" class=\"dataframe\">\n",
                            "  <thead>\n",
                            "    <tr style=\"text-align: right;\">\n",
                            "      <th></th>\n",
                            "      <th>Analysis Set</th>\n",
                            "      <th>Follow-up (years)</th>\n",
                            "      <th>Status at follow-up</th>\n",
                            "      <th>Subgroup</th>\n",
                            "      <th>IPI Group</th>\n",
                            "      <th>Germinal center B cell signature</th>\n",
                            "      <th>Lymph node signature</th>\n",
                            "      <th>Proliferation signature</th>\n",
                            "      <th>BMP6</th>\n",
                            "      <th>MHC class II signature</th>\n",
                            "      <th>Outcome predictor score</th>\n",
                            "      <th>GMgroup</th>\n",
                            "    </tr>\n",
                            "    <tr>\n",
                            "      <th>DLBCL sample (LYM number)</th>\n",
                            "      <th></th>\n",
                            "      <th></th>\n",
                            "      <th></th>\n",
                            "      <th></th>\n",
                            "      <th></th>\n",
                            "      <th></th>\n",
                            "      <th></th>\n",
                            "      <th></th>\n",
                            "      <th></th>\n",
                            "      <th></th>\n",
                            "      <th></th>\n",
                            "      <th></th>\n",
                            "    </tr>\n",
                            "  </thead>\n",
                            "  <tbody>\n",
                            "    <tr>\n",
                            "      <th>1</th>\n",
                            "      <td>Validation</td>\n",
                            "      <td>11.0</td>\n",
                            "      <td>Dead</td>\n",
                            "      <td>Type III</td>\n",
                            "      <td>Medium</td>\n",
                            "      <td>-0.35</td>\n",
                            "      <td>0.50</td>\n",
                            "      <td>-0.22</td>\n",
                            "      <td>-1.29</td>\n",
                            "      <td>-0.56</td>\n",
                            "      <td>-0.30</td>\n",
                            "      <td>1</td>\n",
                            "    </tr>\n",
                            "    <tr>\n",
                            "      <th>2</th>\n",
                            "      <td>Training</td>\n",
                            "      <td>4.0</td>\n",
                            "      <td>Alive</td>\n",
                            "      <td>GCB</td>\n",
                            "      <td>Low</td>\n",
                            "      <td>0.28</td>\n",
                            "      <td>-0.07</td>\n",
                            "      <td>-0.56</td>\n",
                            "      <td>0.46</td>\n",
                            "      <td>0.57</td>\n",
                            "      <td>-0.23</td>\n",
                            "      <td>2</td>\n",
                            "    </tr>\n",
                            "    <tr>\n",
                            "      <th>3</th>\n",
                            "      <td>Validation</td>\n",
                            "      <td>10.6</td>\n",
                            "      <td>Dead</td>\n",
                            "      <td>GCB</td>\n",
                            "      <td>High</td>\n",
                            "      <td>1.02</td>\n",
                            "      <td>1.15</td>\n",
                            "      <td>-0.31</td>\n",
                            "      <td>-0.14</td>\n",
                            "      <td>-0.05</td>\n",
                            "      <td>-0.68</td>\n",
                            "      <td>2</td>\n",
                            "    </tr>\n",
                            "  </tbody>\n",
                            "</table>\n",
                            "</div>"
                        ],
                        "text/plain": [
                            "                          Analysis Set  Follow-up (years) Status at follow-up  \\\n",
                            "DLBCL sample (LYM number)                                                       \n",
                            "1                           Validation               11.0                Dead   \n",
                            "2                             Training                4.0               Alive   \n",
                            "3                           Validation               10.6                Dead   \n",
                            "\n",
                            "                           Subgroup IPI Group  \\\n",
                            "DLBCL sample (LYM number)                       \n",
                            "1                          Type III    Medium   \n",
                            "2                               GCB       Low   \n",
                            "3                               GCB      High   \n",
                            "\n",
                            "                           Germinal center B cell signature  \\\n",
                            "DLBCL sample (LYM number)                                     \n",
                            "1                                                     -0.35   \n",
                            "2                                                      0.28   \n",
                            "3                                                      1.02   \n",
                            "\n",
                            "                           Lymph node signature  Proliferation signature  \\\n",
                            "DLBCL sample (LYM number)                                                  \n",
                            "1                                          0.50                    -0.22   \n",
                            "2                                         -0.07                    -0.56   \n",
                            "3                                          1.15                    -0.31   \n",
                            "\n",
                            "                           BMP6  MHC class II signature  \\\n",
                            "DLBCL sample (LYM number)                                 \n",
                            "1                         -1.29                   -0.56   \n",
                            "2                          0.46                    0.57   \n",
                            "3                         -0.14                   -0.05   \n",
                            "\n",
                            "                           Outcome predictor score  GMgroup  \n",
                            "DLBCL sample (LYM number)                                    \n",
                            "1                                            -0.30        1  \n",
                            "2                                            -0.23        2  \n",
                            "3                                            -0.68        2  "
                        ]
                    },
                    "execution_count": 5,
                    "metadata": {},
                    "output_type": "execute_result"
                }
            ],
            "source": [
                "# Read time and status\n",
                "Y = pd.read_csv('Patient_data_NEJM.csv', index_col=0)\n",
                "Y = Y.sort_index()\n",
                "assert all(Y.index==X.index) # make sure that the index is the same\n",
                "Y['GMgroup'] = pd.read_csv('GaussianMixtureResult.csv').as_matrix().reshape([-1]) # the group of Gaussian Mixture model\n",
                "Y.head(3)"
            ]
        },
        {
            "cell_type": "code",
            "execution_count": 6,
            "metadata": {},
            "outputs": [],
            "source": [
                "event = Y['Status at follow-up']=='Dead'\n",
                "time = Y['Follow-up (years)'].replace(0,0.01)"
            ]
        },
        {
            "cell_type": "markdown",
            "metadata": {},
            "source": [
                "# Basic Survival Analysis"
            ]
        },
        {
            "cell_type": "markdown",
            "metadata": {},
            "source": [
                "#### KM Curve"
            ]
        },
        {
            "cell_type": "code",
            "execution_count": 7,
            "metadata": {},
            "outputs": [
                {
                    "data": {
                        "text/plain": [
                            "[<matplotlib.lines.Line2D at 0x7fbc5b15ccf8>]"
                        ]
                    },
                    "execution_count": 7,
                    "metadata": {},
                    "output_type": "execute_result"
                },
                {
                    "data": {
                        "image/png": "[encoded data removed]",
                        "text/plain": [
                            "<matplotlib.figure.Figure at 0x7fbc5e5c4550>"
                        ]
                    },
                    "metadata": {},
                    "output_type": "display_data"
                }
            ],
            "source": [
                "from sksurv.nonparametric import kaplan_meier_estimator\n",
                "KMest = kaplan_meier_estimator(event, time)\n",
                "plt.plot(*KMest)"
            ]
        },
        {
            "cell_type": "code",
            "execution_count": 8,
            "metadata": {},
            "outputs": [
                {
                    "data": {
                        "text/plain": [
                            "(0, 1)"
                        ]
                    },
                    "execution_count": 8,
                    "metadata": {},
                    "output_type": "execute_result"
                },
                {
                    "data": {
                        "image/png": "[encoded data removed]",
                        "text/plain": [
                            "<matplotlib.figure.Figure at 0x7fbc91470588>"
                        ]
                    },
                    "metadata": {},
                    "output_type": "display_data"
                }
            ],
            "source": [
                "plt.plot(*sksurv.nonparametric.kaplan_meier_estimator(event[Y['GMgroup']==0], time[Y['GMgroup']==0]),c='r')\n",
                "plt.plot(*sksurv.nonparametric.kaplan_meier_estimator(event[Y['GMgroup']==1], time[Y['GMgroup']==1]),c='b')\n",
                "plt.plot(*sksurv.nonparametric.kaplan_meier_estimator(event[Y['GMgroup']==2], time[Y['GMgroup']==2]),c='g')\n",
                "plt.xlim([0,10])\n",
                "plt.ylim([0,1])"
            ]
        },
        {
            "cell_type": "code",
            "execution_count": 9,
            "metadata": {},
            "outputs": [
                {
                    "data": {
                        "text/plain": [
                            "(0, 1)"
                        ]
                    },
                    "execution_count": 9,
                    "metadata": {},
                    "output_type": "execute_result"
                },
                {
                    "data": {
                        "image/png": "[encoded data removed]",
                        "text/plain": [
                            "<matplotlib.figure.Figure at 0x7fbc5b0dc898>"
                        ]
                    },
                    "metadata": {},
                    "output_type": "display_data"
                }
            ],
            "source": [
                "plt.plot(*sksurv.nonparametric.kaplan_meier_estimator(event[Y['Subgroup']=='Type III'], time[Y['Subgroup']=='Type III']),c='r')\n",
                "plt.plot(*sksurv.nonparametric.kaplan_meier_estimator(event[Y['Subgroup']=='GCB'], time[Y['Subgroup']=='GCB']),c='b')\n",
                "plt.plot(*sksurv.nonparametric.kaplan_meier_estimator(event[Y['Subgroup']=='ABC'], time[Y['Subgroup']=='ABC']),c='g')\n",
                "plt.xlim([0,10])\n",
                "plt.ylim([0,1])"
            ]
        },
        {
            "cell_type": "markdown",
            "metadata": {},
            "source": [
                "#### nelson_aalen Curve"
            ]
        },
        {
            "cell_type": "code",
            "execution_count": 10,
            "metadata": {},
            "outputs": [
                {
                    "data": {
                        "text/plain": [
                            "(0, 1.5)"
                        ]
                    },
                    "execution_count": 10,
                    "metadata": {},
                    "output_type": "execute_result"
                },
                {
                    "data": {
                        "image/png": "[encoded data removed]",
                        "text/plain": [
                            "<matplotlib.figure.Figure at 0x7fbc5b03b0b8>"
                        ]
                    },
                    "metadata": {},
                    "output_type": "display_data"
                }
            ],
            "source": [
                "plt.plot(*sksurv.nonparametric.nelson_aalen_estimator(event[Y['GMgroup']==0], time[Y['GMgroup']==0]),c='r')\n",
                "plt.plot(*sksurv.nonparametric.nelson_aalen_estimator(event[Y['GMgroup']==1], time[Y['GMgroup']==1]),c='b')\n",
                "plt.plot(*sksurv.nonparametric.nelson_aalen_estimator(event[Y['GMgroup']==2], time[Y['GMgroup']==2]),c='g')\n",
                "plt.xlim([0,10])\n",
                "plt.ylim([0,1.5])"
            ]
        },
        {
            "cell_type": "code",
            "execution_count": 11,
            "metadata": {},
            "outputs": [
                {
                    "data": {
                        "text/plain": [
                            "(0, 1.5)"
                        ]
                    },
                    "execution_count": 11,
                    "metadata": {},
                    "output_type": "execute_result"
                },
                {
                    "data": {
                        "image/png": "[encoded data removed]",
                        "text/plain": [
                            "<matplotlib.figure.Figure at 0x7fbc5b0a8ef0>"
                        ]
                    },
                    "metadata": {},
                    "output_type": "display_data"
                }
            ],
            "source": [
                "plt.plot(*sksurv.nonparametric.nelson_aalen_estimator(event[Y['Subgroup']=='Type III'], time[Y['Subgroup']=='Type III']),c='r')\n",
                "plt.plot(*sksurv.nonparametric.nelson_aalen_estimator(event[Y['Subgroup']=='GCB'], time[Y['Subgroup']=='GCB']),c='b')\n",
                "plt.plot(*sksurv.nonparametric.nelson_aalen_estimator(event[Y['Subgroup']=='ABC'], time[Y['Subgroup']=='ABC']),c='g')\n",
                "plt.xlim([0,10])\n",
                "plt.ylim([0,1.5])"
            ]
        },
        {
            "cell_type": "markdown",
            "metadata": {},
            "source": [
                "# Survival Machine Learning Models\n",
                "### A complete Search CV on different models, different data, and different parameters:"
            ]
        },
        {
            "cell_type": "code",
            "execution_count": 12,
            "metadata": {},
            "outputs": [],
            "source": [
                "# define the CV tools\n",
                "from sklearn.model_selection import GridSearchCV\n",
                "def tune_model(model,x,y,param_grid):\n",
                "    '''given the model and param_grid, return the GridSearchCV fitted class'''\n",
                "    gscv = GridSearchCV(model,param_grid, n_jobs=3,refit=False,error_score=-1)\n",
                "    gscv.fit(x,y)\n",
                "    return gscv.__dict__ # only return the info dict from the class\n",
                "def tune_data(model,y,param_grid,p2n):\n",
                "    '''given the model and param_grid, on each data (by p2n), return the set of CV results'''\n",
                "    result = {}\n",
                "    for p in p2n:\n",
                "        print('   Tuning p=',p)\n",
                "        Xnew = Xpc[:,:p2n[p]]\n",
                "        result[p] = tune_model(model,Xnew,y,param_grid)\n",
                "    print('   Tuning original data')\n",
                "    result[0] = tune_model(model,X,y,param_grid)\n",
                "    print('   Tuning p=1')\n",
                "    result[1] = tune_model(model,Xpc,y,param_grid)\n",
                "    return result\n",
                "def tune_all_models(model_list,y,p2n):\n",
                "    '''given models and their corresponding param_grid, return all the CV results'''\n",
                "    result = {}\n",
                "    for name,model,param_grid in model_list:\n",
                "        print('Model:',name)\n",
                "        result[name] = tune_data(model,y,param_grid,p2n)\n",
                "    return result\n",
                "def score_table(CVresult):\n",
                "    '''given the output result, show the dataframe of the scores'''\n",
                "    best = {r:{gs:CVresult[r][gs]['best_score_'] for gs in CVresult[r]} for r in CVresult}\n",
                "    return pd.DataFrame(best).transpose()\n",
                "def para_table(CVresult):\n",
                "    '''given the output result, show the dataframe of the scores'''\n",
                "    best = {r:{gs:CVresult[r][gs]['best_params_'] for gs in CVresult[r]} for r in CVresult}\n",
                "    return pd.DataFrame(best).transpose()"
            ]
        },
        {
            "cell_type": "code",
            "execution_count": 13,
            "metadata": {},
            "outputs": [
                {
                    "data": {
                        "text/plain": [
                            "array([( True,  11. ), (False,   4. ), ( True,  10.6)],\n",
                            "      dtype=[('event', '?'), ('time', '<f8')])"
                        ]
                    },
                    "execution_count": 13,
                    "metadata": {},
                    "output_type": "execute_result"
                }
            ],
            "source": [
                "# construct Y (structured)\n",
                "structured = np.array([i for i in zip(event,time)],dtype=[('event',np.bool), ('time', np.float)])\n",
                "structured[:3]"
            ]
        },
        {
            "cell_type": "markdown",
            "metadata": {},
            "source": [
                "#### CV fitting on ensemble models"
            ]
        },
        {
            "cell_type": "code",
            "execution_count": 14,
            "metadata": {},
            "outputs": [
                {
                    "name": "stdout",
                    "output_type": "stream",
                    "text": [
                        "Model: GradientBoostingSurvivalAnalysis\n",
                        "   Tuning p= 0.3\n",
                        "   Tuning p= 0.5\n",
                        "   Tuning p= 0.7\n",
                        "   Tuning p= 0.8\n",
                        "   Tuning p= 0.9\n",
                        "   Tuning p= 0.95\n",
                        "   Tuning p= 0.99\n",
                        "   Tuning original data\n",
                        "   Tuning p=1\n",
                        "Model: ComponentwiseGradientBoostingSurvivalAnalysis\n",
                        "   Tuning p= 0.3\n",
                        "   Tuning p= 0.5\n",
                        "   Tuning p= 0.7\n",
                        "   Tuning p= 0.8\n",
                        "   Tuning p= 0.9\n",
                        "   Tuning p= 0.95\n",
                        "   Tuning p= 0.99\n",
                        "   Tuning original data\n",
                        "   Tuning p=1\n"
                    ]
                }
            ],
            "source": [
                "from sksurv.ensemble import GradientBoostingSurvivalAnalysis,ComponentwiseGradientBoostingSurvivalAnalysis\n",
                "model_list = [\n",
                "    ('GradientBoostingSurvivalAnalysis',GradientBoostingSurvivalAnalysis(),{'learning_rate':[0.01,0.1],\n",
                "                                                                            'max_depth':[3,4,5],\n",
                "                                                                           'dropout_rate':[0,0.1]}),\n",
                "    ('ComponentwiseGradientBoostingSurvivalAnalysis',ComponentwiseGradientBoostingSurvivalAnalysis(),{'learning_rate':[0.01,0.1],\n",
                "                                                                           'dropout_rate':[0,0.1]})\n",
                "]\n",
                "CVresult_ens = tune_all_models(model_list,structured,p2n)"
            ]
        },
        {
            "cell_type": "markdown",
            "metadata": {},
            "source": [
                "#### CV fitting on SVM models"
            ]
        },
        {
            "cell_type": "code",
            "execution_count": 15,
            "metadata": {},
            "outputs": [
                {
                    "name": "stdout",
                    "output_type": "stream",
                    "text": [
                        "Model: FastKernelSurvivalSVM\n",
                        "   Tuning p= 0.3\n",
                        "   Tuning p= 0.5\n",
                        "   Tuning p= 0.7\n",
                        "   Tuning p= 0.8\n",
                        "   Tuning p= 0.9\n",
                        "   Tuning p= 0.95\n",
                        "   Tuning p= 0.99\n",
                        "   Tuning original data\n",
                        "   Tuning p=1\n",
                        "Model: FastSurvivalSVM\n",
                        "   Tuning p= 0.3\n",
                        "   Tuning p= 0.5\n",
                        "   Tuning p= 0.7\n",
                        "   Tuning p= 0.8\n",
                        "   Tuning p= 0.9\n",
                        "   Tuning p= 0.95\n",
                        "   Tuning p= 0.99\n",
                        "   Tuning original data\n",
                        "   Tuning p=1\n",
                        "Model: MinlipSurvivalAnalysis\n",
                        "   Tuning p= 0.3\n",
                        "   Tuning p= 0.5\n",
                        "   Tuning p= 0.7\n",
                        "   Tuning p= 0.8\n",
                        "   Tuning p= 0.9\n",
                        "   Tuning p= 0.95\n",
                        "   Tuning p= 0.99\n",
                        "   Tuning original data\n",
                        "   Tuning p=1\n"
                    ]
                }
            ],
            "source": [
                "from sksurv.svm import FastSurvivalSVM, FastKernelSurvivalSVM,MinlipSurvivalAnalysis\n",
                "model_list = [\n",
                "    ('FastKernelSurvivalSVM',FastKernelSurvivalSVM(max_iter=200),{'alpha':[0.5,1,2],\n",
                "                                                      'rank_ratio':[0,0.5,1],\n",
                "                                                      'kernel':['poly','rbf']}),\n",
                "    ('FastSurvivalSVM',FastSurvivalSVM(max_iter=100),{'alpha':[0.5,1,2],\n",
                "                                          'rank_ratio':[0,0.5,1]}),\n",
                "    ('MinlipSurvivalAnalysis',MinlipSurvivalAnalysis(),{'alpha':[0.5,1,2],\n",
                "                                                      'kernel':['poly','rbf']})\n",
                "]\n",
                "CVresult_svm = tune_all_models(model_list,structured,p2n)"
            ]
        },
        {
            "cell_type": "markdown",
            "metadata": {},
            "source": [
                "#### CV fitting on linear models"
            ]
        },
        {
            "cell_type": "code",
            "execution_count": 16,
            "metadata": {},
            "outputs": [
                {
                    "name": "stdout",
                    "output_type": "stream",
                    "text": [
                        "Model: CoxPHSurvivalAnalysis\n",
                        "   Tuning p= 0.3\n",
                        "   Tuning p= 0.5\n",
                        "   Tuning p= 0.7\n",
                        "   Tuning p= 0.8\n",
                        "   Tuning p= 0.9\n",
                        "   Tuning p= 0.95\n",
                        "   Tuning p= 0.99\n",
                        "   Tuning original data\n",
                        "   Tuning p=1\n",
                        "Model: IPCRidge\n",
                        "   Tuning p= 0.3\n",
                        "   Tuning p= 0.5\n",
                        "   Tuning p= 0.7\n",
                        "   Tuning p= 0.8\n",
                        "   Tuning p= 0.9\n",
                        "   Tuning p= 0.95\n",
                        "   Tuning p= 0.99\n",
                        "   Tuning original data\n",
                        "   Tuning p=1\n"
                    ]
                }
            ],
            "source": [
                "from sksurv.linear_model import CoxPHSurvivalAnalysis,IPCRidge\n",
                "model_list = [\n",
                "    ('CoxPHSurvivalAnalysis',CoxPHSurvivalAnalysis(),{'alpha':[0.5,1,2]}),\n",
                "    ('IPCRidge',IPCRidge(),{'alpha':[0.5,1,1.5,2]})\n",
                "]\n",
                "CVresult_linear = tune_all_models(model_list,structured,p2n)"
            ]
        },
        {
            "cell_type": "markdown",
            "metadata": {},
            "source": [
                "### Sumary"
            ]
        },
        {
            "cell_type": "code",
            "execution_count": 17,
            "metadata": {},
            "outputs": [],
            "source": [
                "CVresult = {}\n",
                "CVresult.update(CVresult_linear)\n",
                "CVresult.update(CVresult_ens)\n",
                "CVresult.update(CVresult_svm)\n",
                "pd.io.pickle.to_pickle(CVresult,'CVresults.pickle')"
            ]
        },
        {
            "cell_type": "code",
            "execution_count": 18,
            "metadata": {},
            "outputs": [],
            "source": [
                "CVresult = pd.io.pickle.read_pickle('CVresults.pickle')\n",
                "#CVresult.pop('CoxPHSurvivalAnalysis')\n",
                "#CVresult.pop('IPCRidge')\n",
                "df=score_table(CVresult)"
            ]
        },
        {
            "cell_type": "code",
            "execution_count": 19,
            "metadata": {},
            "outputs": [
                {
                    "data": {
                        "text/html": [
                            "<div>\n",
                            "<style scoped>\n",
                            "    .dataframe tbody tr th:only-of-type {\n",
                            "        vertical-align: middle;\n",
                            "    }\n",
                            "\n",
                            "    .dataframe tbody tr th {\n",
                            "        vertical-align: top;\n",
                            "    }\n",
                            "\n",
                            "    .dataframe thead th {\n",
                            "        text-align: right;\n",
                            "    }\n",
                            "</style>\n",
                            "<table border=\"1\" class=\"dataframe\">\n",
                            "  <thead>\n",
                            "    <tr style=\"text-align: right;\">\n",
                            "      <th></th>\n",
                            "      <th>0.3</th>\n",
                            "      <th>0.5</th>\n",
                            "      <th>0.7</th>\n",
                            "      <th>0.8</th>\n",
                            "      <th>0.9</th>\n",
                            "      <th>0.95</th>\n",
                            "      <th>0.99</th>\n",
                            "      <th>1.0</th>\n",
                            "      <th>Origin</th>\n",
                            "    </tr>\n",
                            "  </thead>\n",
                            "  <tbody>\n",
                            "    <tr>\n",
                            "      <th>FastKernelSurvivalSVM</th>\n",
                            "      <td>0.647235</td>\n",
                            "      <td>0.617846</td>\n",
                            "      <td>0.642301</td>\n",
                            "      <td>0.683080</td>\n",
                            "      <td>0.708873</td>\n",
                            "      <td>0.708632</td>\n",
                            "      <td>0.724754</td>\n",
                            "      <td>0.731105</td>\n",
                            "      <td>0.739841</td>\n",
                            "    </tr>\n",
                            "    <tr>\n",
                            "      <th>CoxPHSurvivalAnalysis</th>\n",
                            "      <td>0.651077</td>\n",
                            "      <td>0.674471</td>\n",
                            "      <td>0.719204</td>\n",
                            "      <td>0.712414</td>\n",
                            "      <td>0.656172</td>\n",
                            "      <td>0.690163</td>\n",
                            "      <td>0.723613</td>\n",
                            "      <td>0.738218</td>\n",
                            "      <td>0.738218</td>\n",
                            "    </tr>\n",
                            "    <tr>\n",
                            "      <th>FastSurvivalSVM</th>\n",
                            "      <td>0.650921</td>\n",
                            "      <td>0.686643</td>\n",
                            "      <td>0.711296</td>\n",
                            "      <td>0.725603</td>\n",
                            "      <td>0.618656</td>\n",
                            "      <td>0.649572</td>\n",
                            "      <td>0.704779</td>\n",
                            "      <td>0.733400</td>\n",
                            "      <td>0.729154</td>\n",
                            "    </tr>\n",
                            "    <tr>\n",
                            "      <th>MinlipSurvivalAnalysis</th>\n",
                            "      <td>0.550440</td>\n",
                            "      <td>0.615941</td>\n",
                            "      <td>0.669204</td>\n",
                            "      <td>0.702991</td>\n",
                            "      <td>0.711958</td>\n",
                            "      <td>0.719925</td>\n",
                            "      <td>0.730735</td>\n",
                            "      <td>0.732069</td>\n",
                            "      <td>0.728855</td>\n",
                            "    </tr>\n",
                            "    <tr>\n",
                            "      <th>GradientBoostingSurvivalAnalysis</th>\n",
                            "      <td>0.585837</td>\n",
                            "      <td>0.613872</td>\n",
                            "      <td>0.643698</td>\n",
                            "      <td>0.618914</td>\n",
                            "      <td>0.614167</td>\n",
                            "      <td>0.582384</td>\n",
                            "      <td>0.566414</td>\n",
                            "      <td>0.566351</td>\n",
                            "      <td>0.688807</td>\n",
                            "    </tr>\n",
                            "    <tr>\n",
                            "      <th>ComponentwiseGradientBoostingSurvivalAnalysis</th>\n",
                            "      <td>0.655657</td>\n",
                            "      <td>0.660375</td>\n",
                            "      <td>0.681832</td>\n",
                            "      <td>0.680224</td>\n",
                            "      <td>0.653303</td>\n",
                            "      <td>0.650361</td>\n",
                            "      <td>0.655697</td>\n",
                            "      <td>0.652315</td>\n",
                            "      <td>0.677556</td>\n",
                            "    </tr>\n",
                            "    <tr>\n",
                            "      <th>IPCRidge</th>\n",
                            "      <td>0.398402</td>\n",
                            "      <td>0.342454</td>\n",
                            "      <td>0.322100</td>\n",
                            "      <td>0.362503</td>\n",
                            "      <td>0.456892</td>\n",
                            "      <td>0.408495</td>\n",
                            "      <td>0.347798</td>\n",
                            "      <td>0.349674</td>\n",
                            "      <td>0.349674</td>\n",
                            "    </tr>\n",
                            "  </tbody>\n",
                            "</table>\n",
                            "</div>"
                        ],
                        "text/plain": [
                            "                                                    0.3       0.5       0.7  \\\n",
                            "FastKernelSurvivalSVM                          0.647235  0.617846  0.642301   \n",
                            "CoxPHSurvivalAnalysis                          0.651077  0.674471  0.719204   \n",
                            "FastSurvivalSVM                                0.650921  0.686643  0.711296   \n",
                            "MinlipSurvivalAnalysis                         0.550440  0.615941  0.669204   \n",
                            "GradientBoostingSurvivalAnalysis               0.585837  0.613872  0.643698   \n",
                            "ComponentwiseGradientBoostingSurvivalAnalysis  0.655657  0.660375  0.681832   \n",
                            "IPCRidge                                       0.398402  0.342454  0.322100   \n",
                            "\n",
                            "                                                    0.8       0.9      0.95  \\\n",
                            "FastKernelSurvivalSVM                          0.683080  0.708873  0.708632   \n",
                            "CoxPHSurvivalAnalysis                          0.712414  0.656172  0.690163   \n",
                            "FastSurvivalSVM                                0.725603  0.618656  0.649572   \n",
                            "MinlipSurvivalAnalysis                         0.702991  0.711958  0.719925   \n",
                            "GradientBoostingSurvivalAnalysis               0.618914  0.614167  0.582384   \n",
                            "ComponentwiseGradientBoostingSurvivalAnalysis  0.680224  0.653303  0.650361   \n",
                            "IPCRidge                                       0.362503  0.456892  0.408495   \n",
                            "\n",
                            "                                                   0.99       1.0    Origin  \n",
                            "FastKernelSurvivalSVM                          0.724754  0.731105  0.739841  \n",
                            "CoxPHSurvivalAnalysis                          0.723613  0.738218  0.738218  \n",
                            "FastSurvivalSVM                                0.704779  0.733400  0.729154  \n",
                            "MinlipSurvivalAnalysis                         0.730735  0.732069  0.728855  \n",
                            "GradientBoostingSurvivalAnalysis               0.566414  0.566351  0.688807  \n",
                            "ComponentwiseGradientBoostingSurvivalAnalysis  0.655697  0.652315  0.677556  \n",
                            "IPCRidge                                       0.347798  0.349674  0.349674  "
                        ]
                    },
                    "execution_count": 19,
                    "metadata": {},
                    "output_type": "execute_result"
                }
            ],
            "source": [
                "# sort models by max scores\n",
                "dfsort = df.loc[df.max(axis=1).sort_values(ascending=False).index,[ 0.3, 0.5, 0.7, 0.8, 0.9, 0.95, 0.99, 1.0,0.0]]\n",
                "dfsort.columns = ['0.3', '0.5', '0.7', '0.8', '0.9', '0.95', '0.99', '1.0','Origin']\n",
                "dfsort"
            ]
        },
        {
            "cell_type": "code",
            "execution_count": 20,
            "metadata": {
                "scrolled": true
            },
            "outputs": [
                {
                    "name": "stdout",
                    "output_type": "stream",
                    "text": [
                        "\\begin{tabular}{lrrrrrrrrr}\n",
                        "\\toprule\n",
                        "{} &     0.3 &     0.5 &     0.7 &     0.8 &     0.9 &    0.95 &    0.99 &     1.0 &  Origin \\\\\n",
                        "\\midrule\n",
                        "FastKernelSurvivalSVM                         &  0.6472 &  0.6178 &  0.6423 &  0.6831 &  0.7089 &  0.7086 &  0.7248 &  0.7311 &  0.7398 \\\\\n",
                        "CoxPHSurvivalAnalysis                         &  0.6511 &  0.6745 &  0.7192 &  0.7124 &  0.6562 &  0.6902 &  0.7236 &  0.7382 &  0.7382 \\\\\n",
                        "FastSurvivalSVM                               &  0.6509 &  0.6866 &  0.7113 &  0.7256 &  0.6187 &  0.6496 &  0.7048 &  0.7334 &  0.7292 \\\\\n",
                        "MinlipSurvivalAnalysis                        &  0.5504 &  0.6159 &  0.6692 &  0.7030 &  0.7120 &  0.7199 &  0.7307 &  0.7321 &  0.7289 \\\\\n",
                        "GradientBoostingSurvivalAnalysis              &  0.5858 &  0.6139 &  0.6437 &  0.6189 &  0.6142 &  0.5824 &  0.5664 &  0.5664 &  0.6888 \\\\\n",
                        "ComponentwiseGradientBoostingSurvivalAnalysis &  0.6557 &  0.6604 &  0.6818 &  0.6802 &  0.6533 &  0.6504 &  0.6557 &  0.6523 &  0.6776 \\\\\n",
                        "IPCRidge                                      &  0.3984 &  0.3425 &  0.3221 &  0.3625 &  0.4569 &  0.4085 &  0.3478 &  0.3497 &  0.3497 \\\\\n",
                        "\\bottomrule\n",
                        "\\end{tabular}\n",
                        "\n"
                    ]
                }
            ],
            "source": [
                "print(dfsort.round(4).to_latex())"
            ]
        },
        {
            "cell_type": "code",
            "execution_count": 21,
            "metadata": {},
            "outputs": [
                {
                    "data": {
                        "text/plain": [
                            "Text(0,0.5,'CV Score')"
                        ]
                    },
                    "execution_count": 21,
                    "metadata": {},
                    "output_type": "execute_result"
                },
                {
                    "data": {
                        "image/png": "[encoded data removed]",
                        "text/plain": [
                            "<matplotlib.figure.Figure at 0x7fd60cada470>"
                        ]
                    },
                    "metadata": {},
                    "output_type": "display_data"
                }
            ],
            "source": [
                "# plot\n",
                "dfsort.T.plot(alpha=1)\n",
                "labels = ['30%', '50%', '70%', '80%', '90%', '95%', '99%', '100%','Origin']\n",
                "plt.xticks(list(range(9)), labels)\n",
                "plt.xlabel('Variance explained in X')\n",
                "plt.ylabel('CV Score')"
            ]
        },
        {
            "cell_type": "code",
            "execution_count": 22,
            "metadata": {},
            "outputs": [
                {
                    "data": {
                        "text/plain": [
                            "{'alpha': 0.5, 'kernel': 'rbf', 'rank_ratio': 1}"
                        ]
                    },
                    "execution_count": 22,
                    "metadata": {},
                    "output_type": "execute_result"
                }
            ],
            "source": [
                "# best parameters\n",
                "best_para = para_table(CVresult).loc['FastKernelSurvivalSVM',0]\n",
                "best_para"
            ]
        },
        {
            "cell_type": "markdown",
            "metadata": {},
            "source": [
                "# Final Model and Validation / Prediction results"
            ]
        },
        {
            "cell_type": "code",
            "execution_count": 23,
            "metadata": {},
            "outputs": [],
            "source": [
                "# train / test sets\n",
                "train_flag = Y['Analysis Set']=='Training'\n",
                "Xtrain = X.loc[train_flag,]\n",
                "Xtest = X.loc[~train_flag,]\n",
                "ytrain = structured[train_flag]\n",
                "ytest = structured[~train_flag]"
            ]
        },
        {
            "cell_type": "code",
            "execution_count": 24,
            "metadata": {},
            "outputs": [
                {
                    "data": {
                        "text/plain": [
                            "FastKernelSurvivalSVM(alpha=0.5, coef0=1, degree=3, fit_intercept=False,\n",
                            "           gamma=None, kernel='rbf', kernel_params=None, max_iter=20,\n",
                            "           optimizer='rbtree', random_state=None, rank_ratio=1,\n",
                            "           timeit=False, tol=None, verbose=False)"
                        ]
                    },
                    "execution_count": 24,
                    "metadata": {},
                    "output_type": "execute_result"
                }
            ],
            "source": [
                "# train\n",
                "KSSVM = FastKernelSurvivalSVM(**best_para)\n",
                "KSSVM.fit(Xtrain,ytrain)"
            ]
        },
        {
            "cell_type": "code",
            "execution_count": 25,
            "metadata": {},
            "outputs": [
                {
                    "name": "stdout",
                    "output_type": "stream",
                    "text": [
                        "Training score: 0.997474481743\n",
                        "Test score: 0.72480620155\n"
                    ]
                }
            ],
            "source": [
                "# scores\n",
                "print('Training score:',KSSVM.score(Xtrain,ytrain))\n",
                "print('Test score:',KSSVM.score(Xtest,ytest))"
            ]
        },
        {
            "cell_type": "code",
            "execution_count": 26,
            "metadata": {},
            "outputs": [],
            "source": [
                "# predictions\n",
                "pre = KSSVM.predict(Xtest)"
            ]
        },
        {
            "cell_type": "markdown",
            "metadata": {},
            "source": [
                "## The model in the Paper"
            ]
        },
        {
            "cell_type": "code",
            "execution_count": 27,
            "metadata": {},
            "outputs": [],
            "source": [
                "# data in the paper\n",
                "Xpaper = Y.iloc[:,5:10]\n",
                "Xpaper_train = Xpaper.loc[train_flag,]\n",
                "Xpaper_test = Xpaper.loc[~train_flag,]"
            ]
        },
        {
            "cell_type": "code",
            "execution_count": 28,
            "metadata": {},
            "outputs": [
                {
                    "data": {
                        "text/plain": [
                            "Germinal center B cell signature   -0.289264\n",
                            "Lymph node signature               -0.242683\n",
                            "Proliferation signature             0.236291\n",
                            "BMP6                                0.306590\n",
                            "MHC class II signature             -0.302203\n",
                            "dtype: float64"
                        ]
                    },
                    "execution_count": 28,
                    "metadata": {},
                    "output_type": "execute_result"
                }
            ],
            "source": [
                "# restore the final model in the paper\n",
                "fit_paper_final = CoxPHSurvivalAnalysis()\n",
                "fit_paper_final.fit(Xpaper, structured)\n",
                "pd.Series(fit_paper.coef_,index=Xpaper.columns)"
            ]
        },
        {
            "cell_type": "code",
            "execution_count": 29,
            "metadata": {},
            "outputs": [
                {
                    "name": "stdout",
                    "output_type": "stream",
                    "text": [
                        "Paper Training score: 0.707355571925\n",
                        "Paper Test score: 0.663178294574\n"
                    ]
                }
            ],
            "source": [
                "# scores of the model \uff08trained by training set)\n",
                "from sksurv.metrics import concordance_index_censored\n",
                "fit_paper = CoxPHSurvivalAnalysis()\n",
                "fit_paper.fit(Xpaper_train, ytrain)\n",
                "print('Paper Training score:',fit_paper.score(Xpaper_train,ytrain))\n",
                "print('Paper Test score:',fit_paper.score(Xpaper_test,ytest))"
            ]
        },
        {
            "cell_type": "code",
            "execution_count": 30,
            "metadata": {},
            "outputs": [
                {
                    "name": "stdout",
                    "output_type": "stream",
                    "text": [
                        "0\n",
                        "5\n",
                        "10\n",
                        "15\n",
                        "20\n",
                        "25\n",
                        "30\n",
                        "35\n",
                        "40\n",
                        "45\n",
                        "50\n",
                        "55\n",
                        "60\n",
                        "65\n",
                        "70\n",
                        "75\n",
                        "80\n",
                        "85\n",
                        "90\n",
                        "95\n"
                    ]
                }
            ],
            "source": [
                "# cross validation\n",
                "from sklearn.model_selection import cross_val_score\n",
                "from sklearn.utils import shuffle\n",
                "cv_results = []\n",
                "for i in range(100):\n",
                "    Xpaper_new,ypaper_new = shuffle(Xpaper,structured)\n",
                "    cv_paper = cross_val_score(CoxPHSurvivalAnalysis(),Xpaper_new,ypaper_new,cv=3)\n",
                "    cv_results.append(cv_paper.mean())\n",
                "    if i%5==0: print(i)"
            ]
        },
        {
            "cell_type": "code",
            "execution_count": 31,
            "metadata": {},
            "outputs": [
                {
                    "name": "stdout",
                    "output_type": "stream",
                    "text": [
                        "Paper CV score: 0.679456197179\n"
                    ]
                }
            ],
            "source": [
                "print('Paper CV score:',np.mean(cv_results))"
            ]
        }
    ],
    "metadata": {
        "kernelspec": {
            "display_name": "Python 3",
            "language": "python",
            "name": "python3"
        },
        "language_info": {
            "codemirror_mode": {
                "name": "ipython",
                "version": 3
            },
            "file_extension": ".py",
            "mimetype": "text/x-python",
            "name": "python",
            "nbconvert_exporter": "python",
            "pygments_lexer": "ipython3",
            "version": "3.6.4"
        }
    },
    "nbformat": 4,
    "nbformat_minor": 2
}