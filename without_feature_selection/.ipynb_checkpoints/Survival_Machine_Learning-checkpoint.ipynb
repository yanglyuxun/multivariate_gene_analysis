{
 "cells": [
  {
   "cell_type": "markdown",
   "metadata": {},
   "source": [
    "### This file records the results without the feature selection procedure."
   ]
  },
  {
   "cell_type": "code",
   "execution_count": 8,
   "metadata": {},
   "outputs": [],
   "source": [
    "from sklearn.decomposition import PCA\n",
    "import sksurv\n",
    "import pandas as pd\n",
    "import numpy as np\n",
    "import matplotlib.pyplot as plt\n",
    "import seaborn as sns"
   ]
  },
  {
   "cell_type": "markdown",
   "metadata": {},
   "source": [
    "# Dimention Reduction\n",
    "Selected Method: PCA"
   ]
  },
  {
   "cell_type": "code",
   "execution_count": 9,
   "metadata": {},
   "outputs": [
    {
     "data": {
      "text/html": [
       "<div>\n",
       "<style scoped>\n",
       "    .dataframe tbody tr th:only-of-type {\n",
       "        vertical-align: middle;\n",
       "    }\n",
       "\n",
       "    .dataframe tbody tr th {\n",
       "        vertical-align: top;\n",
       "    }\n",
       "\n",
       "    .dataframe thead th {\n",
       "        text-align: right;\n",
       "    }\n",
       "</style>\n",
       "<table border=\"1\" class=\"dataframe\">\n",
       "  <thead>\n",
       "    <tr style=\"text-align: right;\">\n",
       "      <th></th>\n",
       "      <th>|U76248|~AA053221|Hs.20191|seven in absentia homolog 2 (Drosophila)</th>\n",
       "      <th>|U76248|*AA053221|Hs.20191|seven in absentia homolog 2 (Drosophila)</th>\n",
       "      <th>|U76248|*AA768908|Hs.20191|seven in absentia homolog 2 (Drosophila)</th>\n",
       "    </tr>\n",
       "  </thead>\n",
       "  <tbody>\n",
       "    <tr>\n",
       "      <th>1</th>\n",
       "      <td>-0.2808</td>\n",
       "      <td>-0.1810</td>\n",
       "      <td>-0.23660</td>\n",
       "    </tr>\n",
       "    <tr>\n",
       "      <th>2</th>\n",
       "      <td>-0.2210</td>\n",
       "      <td>-0.1786</td>\n",
       "      <td>-0.05025</td>\n",
       "    </tr>\n",
       "    <tr>\n",
       "      <th>3</th>\n",
       "      <td>0.3423</td>\n",
       "      <td>0.4483</td>\n",
       "      <td>0.48660</td>\n",
       "    </tr>\n",
       "  </tbody>\n",
       "</table>\n",
       "</div>"
      ],
      "text/plain": [
       "   |U76248|~AA053221|Hs.20191|seven in absentia homolog 2 (Drosophila)  \\\n",
       "1                                            -0.2808                     \n",
       "2                                            -0.2210                     \n",
       "3                                             0.3423                     \n",
       "\n",
       "   |U76248|*AA053221|Hs.20191|seven in absentia homolog 2 (Drosophila)  \\\n",
       "1                                            -0.1810                     \n",
       "2                                            -0.1786                     \n",
       "3                                             0.4483                     \n",
       "\n",
       "   |U76248|*AA768908|Hs.20191|seven in absentia homolog 2 (Drosophila)  \n",
       "1                                           -0.23660                    \n",
       "2                                           -0.05025                    \n",
       "3                                            0.48660                    "
      ]
     },
     "execution_count": 9,
     "metadata": {},
     "output_type": "execute_result"
    }
   ],
   "source": [
    "# read imputed data\n",
    "X = pd.read_csv('imputedX.csv',index_col=0)\n",
    "X.iloc[:3,:3]"
   ]
  },
  {
   "cell_type": "code",
   "execution_count": 10,
   "metadata": {},
   "outputs": [],
   "source": [
    "# PCA and n_components\n",
    "pca = PCA(svd_solver='full')\n",
    "Xall = pca.fit_transform(X)"
   ]
  },
  {
   "cell_type": "markdown",
   "metadata": {},
   "source": [
    "**Results from the PCA analysis in R codes:**\n",
    "\n",
    "|p|n_components|\n",
    "|:---|:---|\n",
    "|0.8|83   |\n",
    "|0.9|137  |\n",
    "|0.95|177  |\n",
    "|0.99|223  |"
   ]
  },
  {
   "cell_type": "code",
   "execution_count": 11,
   "metadata": {},
   "outputs": [],
   "source": [
    "X80 = Xall[:,83]\n",
    "X90 = Xall[:,137]\n",
    "X95 = Xall[:,177]\n",
    "X99 = Xall[:,223]"
   ]
  },
  {
   "cell_type": "markdown",
   "metadata": {},
   "source": [
    "# Basic Survival Analysis"
   ]
  },
  {
   "cell_type": "code",
   "execution_count": 12,
   "metadata": {},
   "outputs": [
    {
     "data": {
      "text/html": [
       "<div>\n",
       "<style scoped>\n",
       "    .dataframe tbody tr th:only-of-type {\n",
       "        vertical-align: middle;\n",
       "    }\n",
       "\n",
       "    .dataframe tbody tr th {\n",
       "        vertical-align: top;\n",
       "    }\n",
       "\n",
       "    .dataframe thead th {\n",
       "        text-align: right;\n",
       "    }\n",
       "</style>\n",
       "<table border=\"1\" class=\"dataframe\">\n",
       "  <thead>\n",
       "    <tr style=\"text-align: right;\">\n",
       "      <th></th>\n",
       "      <th>Analysis Set</th>\n",
       "      <th>Follow-up (years)</th>\n",
       "      <th>Status at follow-up</th>\n",
       "      <th>Subgroup</th>\n",
       "      <th>IPI Group</th>\n",
       "      <th>Germinal center B cell signature</th>\n",
       "      <th>Lymph node signature</th>\n",
       "      <th>Proliferation signature</th>\n",
       "      <th>BMP6</th>\n",
       "      <th>MHC class II signature</th>\n",
       "      <th>Outcome predictor score</th>\n",
       "      <th>GMgroup</th>\n",
       "    </tr>\n",
       "    <tr>\n",
       "      <th>DLBCL sample (LYM number)</th>\n",
       "      <th></th>\n",
       "      <th></th>\n",
       "      <th></th>\n",
       "      <th></th>\n",
       "      <th></th>\n",
       "      <th></th>\n",
       "      <th></th>\n",
       "      <th></th>\n",
       "      <th></th>\n",
       "      <th></th>\n",
       "      <th></th>\n",
       "      <th></th>\n",
       "    </tr>\n",
       "  </thead>\n",
       "  <tbody>\n",
       "    <tr>\n",
       "      <th>1</th>\n",
       "      <td>Validation</td>\n",
       "      <td>11.0</td>\n",
       "      <td>Dead</td>\n",
       "      <td>Type III</td>\n",
       "      <td>Medium</td>\n",
       "      <td>-0.35</td>\n",
       "      <td>0.50</td>\n",
       "      <td>-0.22</td>\n",
       "      <td>-1.29</td>\n",
       "      <td>-0.56</td>\n",
       "      <td>-0.30</td>\n",
       "      <td>2</td>\n",
       "    </tr>\n",
       "    <tr>\n",
       "      <th>2</th>\n",
       "      <td>Training</td>\n",
       "      <td>4.0</td>\n",
       "      <td>Alive</td>\n",
       "      <td>GCB</td>\n",
       "      <td>Low</td>\n",
       "      <td>0.28</td>\n",
       "      <td>-0.07</td>\n",
       "      <td>-0.56</td>\n",
       "      <td>0.46</td>\n",
       "      <td>0.57</td>\n",
       "      <td>-0.23</td>\n",
       "      <td>1</td>\n",
       "    </tr>\n",
       "    <tr>\n",
       "      <th>3</th>\n",
       "      <td>Validation</td>\n",
       "      <td>10.6</td>\n",
       "      <td>Dead</td>\n",
       "      <td>GCB</td>\n",
       "      <td>High</td>\n",
       "      <td>1.02</td>\n",
       "      <td>1.15</td>\n",
       "      <td>-0.31</td>\n",
       "      <td>-0.14</td>\n",
       "      <td>-0.05</td>\n",
       "      <td>-0.68</td>\n",
       "      <td>0</td>\n",
       "    </tr>\n",
       "  </tbody>\n",
       "</table>\n",
       "</div>"
      ],
      "text/plain": [
       "                          Analysis Set  Follow-up (years) Status at follow-up  \\\n",
       "DLBCL sample (LYM number)                                                       \n",
       "1                           Validation               11.0                Dead   \n",
       "2                             Training                4.0               Alive   \n",
       "3                           Validation               10.6                Dead   \n",
       "\n",
       "                           Subgroup IPI Group  \\\n",
       "DLBCL sample (LYM number)                       \n",
       "1                          Type III    Medium   \n",
       "2                               GCB       Low   \n",
       "3                               GCB      High   \n",
       "\n",
       "                           Germinal center B cell signature  \\\n",
       "DLBCL sample (LYM number)                                     \n",
       "1                                                     -0.35   \n",
       "2                                                      0.28   \n",
       "3                                                      1.02   \n",
       "\n",
       "                           Lymph node signature  Proliferation signature  \\\n",
       "DLBCL sample (LYM number)                                                  \n",
       "1                                          0.50                    -0.22   \n",
       "2                                         -0.07                    -0.56   \n",
       "3                                          1.15                    -0.31   \n",
       "\n",
       "                           BMP6  MHC class II signature  \\\n",
       "DLBCL sample (LYM number)                                 \n",
       "1                         -1.29                   -0.56   \n",
       "2                          0.46                    0.57   \n",
       "3                         -0.14                   -0.05   \n",
       "\n",
       "                           Outcome predictor score  GMgroup  \n",
       "DLBCL sample (LYM number)                                    \n",
       "1                                            -0.30        2  \n",
       "2                                            -0.23        1  \n",
       "3                                            -0.68        0  "
      ]
     },
     "execution_count": 12,
     "metadata": {},
     "output_type": "execute_result"
    }
   ],
   "source": [
    "# Read time and status\n",
    "Y = pd.read_csv('Patient_data_NEJM.csv', index_col=0)\n",
    "Y = Y.sort_index()\n",
    "assert all(Y.index==X.index) # make sure that the index is the same\n",
    "Y['GMgroup'] = pd.read_csv('GaussianMixtureResult.csv').as_matrix().reshape([-1]) # the group of Gaussian Mixture model\n",
    "Y.head(3)"
   ]
  },
  {
   "cell_type": "code",
   "execution_count": 13,
   "metadata": {},
   "outputs": [],
   "source": [
    "event = Y['Status at follow-up']=='Dead'\n",
    "time = Y['Follow-up (years)']"
   ]
  },
  {
   "cell_type": "code",
   "execution_count": 14,
   "metadata": {},
   "outputs": [
    {
     "data": {
      "text/plain": [
       "[<matplotlib.lines.Line2D at 0x7f23e9c01128>]"
      ]
     },
     "execution_count": 14,
     "metadata": {},
     "output_type": "execute_result"
    },
    {
     "data": {
      "image/png": "[encoded data removed]",
      "text/plain": [
       "<matplotlib.figure.Figure at 0x7f23e9e94278>"
      ]
     },
     "metadata": {},
     "output_type": "display_data"
    }
   ],
   "source": [
    "from sksurv.nonparametric import kaplan_meier_estimator\n",
    "KMest = kaplan_meier_estimator(event, time)\n",
    "plt.plot(*KMest)"
   ]
  },
  {
   "cell_type": "code",
   "execution_count": 15,
   "metadata": {},
   "outputs": [
    {
     "data": {
      "text/plain": [
       "(0.3, 1)"
      ]
     },
     "execution_count": 15,
     "metadata": {},
     "output_type": "execute_result"
    },
    {
     "data": {
      "image/png": "[encoded data removed]",
      "text/plain": [
       "<matplotlib.figure.Figure at 0x7f23e9d89c50>"
      ]
     },
     "metadata": {},
     "output_type": "display_data"
    }
   ],
   "source": [
    "plt.plot(*sksurv.nonparametric.kaplan_meier_estimator(event[Y['GMgroup']==0], time[Y['GMgroup']==0]),c='r')\n",
    "plt.plot(*sksurv.nonparametric.kaplan_meier_estimator(event[Y['GMgroup']==1], time[Y['GMgroup']==1]),c='b')\n",
    "plt.plot(*sksurv.nonparametric.kaplan_meier_estimator(event[Y['GMgroup']==2], time[Y['GMgroup']==2]),c='g')\n",
    "plt.xlim([0,10])\n",
    "plt.ylim([0.3,1])"
   ]
  },
  {
   "cell_type": "code",
   "execution_count": 16,
   "metadata": {},
   "outputs": [
    {
     "data": {
      "text/plain": [
       "(0, 10)"
      ]
     },
     "execution_count": 16,
     "metadata": {},
     "output_type": "execute_result"
    },
    {
     "data": {
      "image/png": "[encoded data removed]",
      "text/plain": [
       "<matplotlib.figure.Figure at 0x7f23e9d893c8>"
      ]
     },
     "metadata": {},
     "output_type": "display_data"
    }
   ],
   "source": [
    "plt.plot(*sksurv.nonparametric.kaplan_meier_estimator(event[Y['Subgroup']=='Type III'], time[Y['Subgroup']=='Type III']),c='r')\n",
    "plt.plot(*sksurv.nonparametric.kaplan_meier_estimator(event[Y['Subgroup']=='GCB'], time[Y['Subgroup']=='GCB']),c='b')\n",
    "plt.plot(*sksurv.nonparametric.kaplan_meier_estimator(event[Y['Subgroup']=='ABC'], time[Y['Subgroup']=='ABC']),c='g')\n",
    "plt.xlim([0,10])"
   ]
  },
  {
   "cell_type": "code",
   "execution_count": 17,
   "metadata": {},
   "outputs": [
    {
     "data": {
      "text/plain": [
       "(0, 10)"
      ]
     },
     "execution_count": 17,
     "metadata": {},
     "output_type": "execute_result"
    },
    {
     "data": {
      "image/png": "[encoded data removed]",
      "text/plain": [
       "<matplotlib.figure.Figure at 0x7f23e9d12710>"
      ]
     },
     "metadata": {},
     "output_type": "display_data"
    }
   ],
   "source": [
    "plt.plot(*sksurv.nonparametric.nelson_aalen_estimator(event[Y['GMgroup']==0], time[Y['GMgroup']==0]),c='r')\n",
    "plt.plot(*sksurv.nonparametric.nelson_aalen_estimator(event[Y['GMgroup']==1], time[Y['GMgroup']==1]),c='b')\n",
    "plt.plot(*sksurv.nonparametric.nelson_aalen_estimator(event[Y['GMgroup']==2], time[Y['GMgroup']==2]),c='g')\n",
    "plt.xlim([0,10])"
   ]
  },
  {
   "cell_type": "code",
   "execution_count": 18,
   "metadata": {},
   "outputs": [
    {
     "data": {
      "text/plain": [
       "(0, 10)"
      ]
     },
     "execution_count": 18,
     "metadata": {},
     "output_type": "execute_result"
    },
    {
     "data": {
      "image/png": "[encoded data removed]",
      "text/plain": [
       "<matplotlib.figure.Figure at 0x7f24270455c0>"
      ]
     },
     "metadata": {},
     "output_type": "display_data"
    }
   ],
   "source": [
    "plt.plot(*sksurv.nonparametric.nelson_aalen_estimator(event[Y['Subgroup']=='Type III'], time[Y['Subgroup']=='Type III']),c='r')\n",
    "plt.plot(*sksurv.nonparametric.nelson_aalen_estimator(event[Y['Subgroup']=='GCB'], time[Y['Subgroup']=='GCB']),c='b')\n",
    "plt.plot(*sksurv.nonparametric.nelson_aalen_estimator(event[Y['Subgroup']=='ABC'], time[Y['Subgroup']=='ABC']),c='g')\n",
    "plt.xlim([0,10])"
   ]
  }
 ],
 "metadata": {
  "kernelspec": {
   "display_name": "Python 3",
   "language": "python",
   "name": "python3"
  },
  "language_info": {
   "codemirror_mode": {
    "name": "ipython",
    "version": 3
   },
   "file_extension": ".py",
   "mimetype": "text/x-python",
   "name": "python",
   "nbconvert_exporter": "python",
   "pygments_lexer": "ipython3",
   "version": "3.6.4"
  }
 },
 "nbformat": 4,
 "nbformat_minor": 2
}
