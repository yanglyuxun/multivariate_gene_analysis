{
 "cells": [
  {
   "cell_type": "code",
   "execution_count": 41,
   "metadata": {},
   "outputs": [],
   "source": [
    "import json,os"
   ]
  },
  {
   "cell_type": "code",
   "execution_count": 42,
   "metadata": {},
   "outputs": [],
   "source": [
    "def order_nb(fname):\n",
    "    with open(fname) as f:\n",
    "        j = json.load(f)\n",
    "    c = 1\n",
    "    for cell in j['cells']:\n",
    "        if cell['cell_type']=='code':\n",
    "            cell['execution_count'] = c\n",
    "            for out in cell['outputs']:\n",
    "                if 'execution_count' in out:\n",
    "                    out['execution_count'] = c\n",
    "            c+=1\n",
    "    with open(fname,'w') as f:\n",
    "        json.dump(j,f,indent=4)"
   ]
  },
  {
   "cell_type": "code",
   "execution_count": 43,
   "metadata": {},
   "outputs": [
    {
     "name": "stdout",
     "output_type": "stream",
     "text": [
      "2_FeatureSelection.ipynb\n",
      "3.1_FactorAnalysis.ipynb\n",
      "3.2_GaussianMixture.ipynb\n",
      "4_Survival_Machine_Learning.ipynb\n",
      "Reset_order.ipynb\n"
     ]
    }
   ],
   "source": [
    "for fname in os.listdir():\n",
    "    if fname.endswith('.ipynb'):\n",
    "        print(fname)\n",
    "        order_nb(fname)"
   ]
  }
 ],
 "metadata": {
  "kernelspec": {
   "display_name": "Python 3",
   "language": "python",
   "name": "python3"
  },
  "language_info": {
   "codemirror_mode": {
    "name": "ipython",
    "version": 3
   },
   "file_extension": ".py",
   "mimetype": "text/x-python",
   "name": "python",
   "nbconvert_exporter": "python",
   "pygments_lexer": "ipython3",
   "version": "3.6.4"
  }
 },
 "nbformat": 4,
 "nbformat_minor": 2
}
